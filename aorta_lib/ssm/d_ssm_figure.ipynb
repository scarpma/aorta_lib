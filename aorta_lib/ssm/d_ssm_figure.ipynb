{
 "cells": [
  {
   "cell_type": "code",
   "execution_count": 13,
   "metadata": {},
   "outputs": [],
   "source": [
    "import sys\n",
    "sys.path.append('../../')\n",
    "import pandas as pd\n",
    "from pathlib import Path\n",
    "import numpy as np\n",
    "import matplotlib as mpl\n",
    "import matplotlib.pyplot as plt\n",
    "#import seaborn # to use latex style in matplotlib\n",
    "import scienceplots\n",
    "plt.style.use(['science','nature'])\n",
    "#import tikzplotlib\n",
    "plt.rcParams['text.usetex'] = True\n",
    "plt.rcParams['font.family'] = 'sans-serif'\n",
    "plt.rcParams['font.sans-serif'] = ['PT Serif']\n",
    "\n",
    "import pyvista as pv\n",
    "import tqdm\n",
    "from pathlib import Path\n",
    "import sys\n",
    "sys.path.append('../')\n",
    "import aorta_lib.segmentation.data as segdata\n",
    "\n",
    "import aorta_lib.hemodyn.data as data\n",
    "import aorta_lib.hemodyn.train_and_analyze_ROM as tr\n",
    "from aorta_lib import utils\n",
    "import scipy.stats"
   ]
  },
  {
   "cell_type": "code",
   "execution_count": 7,
   "metadata": {},
   "outputs": [],
   "source": [
    "import matplotlib as mpl\n",
    "from matplotlib import rc\n",
    "import matplotlib.pyplot as plt\n",
    "import scienceplots\n",
    "import matplotlib.pyplot as plt \n",
    "import string\n",
    "\n",
    "# plt.style.use(['science','nature'])\n",
    "# plt.rcParams['text.usetex'] = True\n",
    "# rc('text.latex', preamble='\\\\usepackage{amsmath}')\n",
    "# plt.style.use('science')\n",
    "# plt.rcParams.update({\n",
    "#     \"font.family\": \"serif\",\n",
    "#     \"font.serif\": [\"Times\"]})\n",
    "\n",
    "\n",
    "\n",
    "from matplotlib import rc\n",
    "rc('text',usetex=True)\n",
    "rc('text.latex', preamble='\\\\usepackage{amsmath}')\n",
    "fontsize = 10\n",
    "mpl.rcParams['font.size'] = fontsize\n",
    "\n",
    "mpl.rcParams['font.size'] = 8\n",
    "mpl.rcParams[\"axes.titlesize\"] = 8\n",
    "mpl.rcParams[\"axes.labelsize\"] = 8"
   ]
  },
  {
   "cell_type": "code",
   "execution_count": 12,
   "metadata": {},
   "outputs": [
    {
     "name": "stderr",
     "output_type": "stream",
     "text": [
      "/tmp/ipykernel_157685/1368397622.py:13: UserWarning: Matplotlib is currently using module://matplotlib_inline.backend_inline, which is a non-GUI backend, so cannot show the figure.\n",
      "  fig.show()\n"
     ]
    },
    {
     "data": {
      "image/png": "[encoded data removed]",
      "text/plain": [
       "<Figure size 374.016x275.591 with 1 Axes>"
      ]
     },
     "metadata": {},
     "output_type": "display_data"
    }
   ],
   "source": [
    "#omega_train = np.random.normal(0,2, size=(10,2))\n",
    "#omega_val = np.random.normal(0,2, size=(10,2))\n",
    "\n",
    "ndim = 2\n",
    "sampler = scipy.stats.qmc.LatinHypercube(ndim, centered=True)\n",
    "n = 15\n",
    "bound = 3 # standard deviations\n",
    "omega_train = (sampler.random(n) - 0.5 - 1/(2*n) ) * 2 * bound\n",
    "omega_train = ws\n",
    "omega_val =\n",
    "\n",
    "figure_size = np.array((95,70)) * 0.0393701 # specify in mm and then convert to inches\n",
    "fig, ax = plt.subplots(1,1,figsize=figure_size)\n",
    "ax.scatter(*omega_train.T, marker='o', c='C0', label='training set')\n",
    "ax.scatter(*omega_val.T, marker='o', color='C1', label='validation set')\n",
    "ax.legend(shadow=True, frameon=True)\n",
    "ax.set_xlabel('$\\\\omega_1$')\n",
    "ax.set_ylabel('$\\\\omega_2$')\n",
    "ax.set_xlim([-3,3])\n",
    "ax.set_ylim([-3,3])\n",
    "fig.show()"
   ]
  },
  {
   "cell_type": "code",
   "execution_count": null,
   "metadata": {},
   "outputs": [],
   "source": []
  }
 ],
 "metadata": {
  "kernelspec": {
   "display_name": "monai",
   "language": "python",
   "name": "python3"
  },
  "language_info": {
   "codemirror_mode": {
    "name": "ipython",
    "version": 3
   },
   "file_extension": ".py",
   "mimetype": "text/x-python",
   "name": "python",
   "nbconvert_exporter": "python",
   "pygments_lexer": "ipython3",
   "version": "3.8.17"
  }
 },
 "nbformat": 4,
 "nbformat_minor": 2
}
